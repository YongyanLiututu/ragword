{
 "cells": [
  {
   "cell_type": "code",
   "execution_count": 32,
   "id": "26e14857-557b-4197-a6f0-4e826e6e5903",
   "metadata": {},
   "outputs": [],
   "source": [
    "from dotenv import load_dotenv\n",
    "load_dotenv()\n",
    "import os\n",
    "from mistralai.client import MistralClient\n",
    "from mistralai.models.chat_completion import ChatMessage\n",
    "from sklearn.metrics.pairwise import euclidean_distances, cosine_similarity"
   ]
  },
  {
   "cell_type": "code",
   "execution_count": 31,
   "id": "b53b2cfe-5cec-4171-b7e8-9c8425dcc795",
   "metadata": {},
   "outputs": [
    {
     "name": "stdout",
     "output_type": "stream",
     "text": [
      "The University of Melbourne is a public research university located in Melbourne, Victoria, Australia. It was founded in 1853 and is the second oldest university in Australia. The University of Melbourne is consistently ranked among the leading universities in the world. Here are some key points about it:\n",
      "\n",
      "1. **Academics**: The university offers a wide range of undergraduate and postgraduate courses across various disciplines, including arts, business, engineering, health, law, and science.\n",
      "\n"
     ]
    }
   ],
   "source": [
    "# !!!替换为你自己的 API Key\n",
    "api_key = os.environ.get(\"MISTRAL_API_KEY\", \"Yongyan\")\n",
    "model = \"mistral-small-latest\"\n",
    "client = MistralClient(api_key=api_key)\n",
    "\n",
    "chat_response = client.chat(\n",
    "    model=model,\n",
    "    messages=[\n",
    "        ChatMessage(role=\"user\", content=\"What is university of melbourne?\")\n",
    "    ],\n",
    "    temperature=0.7,  # 随机性，越高越有创意\n",
    "    top_p=0.9,        # 概率阈值，控制输出的多样性\n",
    "    max_tokens=100    # 最大 token 数量\n",
    ")\n",
    "\n",
    "# 打印模型的回复\n",
    "print(chat_response.choices[0].message.content)\n"
   ]
  }
 ],
 "metadata": {
  "kernelspec": {
   "display_name": "Python 3 (ipykernel)",
   "language": "python",
   "name": "python3"
  },
  "language_info": {
   "codemirror_mode": {
    "name": "ipython",
    "version": 3
   },
   "file_extension": ".py",
   "mimetype": "text/x-python",
   "name": "python",
   "nbconvert_exporter": "python",
   "pygments_lexer": "ipython3",
   "version": "3.12.3"
  }
 },
 "nbformat": 4,
 "nbformat_minor": 5
}
