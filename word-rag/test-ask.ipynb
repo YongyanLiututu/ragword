{
 "cells": [
  {
   "cell_type": "code",
   "execution_count": 1,
   "id": "c711a27d",
   "metadata": {},
   "outputs": [
    {
     "name": "stdout",
     "output_type": "stream",
     "text": [
      "正在构建向量存储...\n"
     ]
    },
    {
     "name": "stderr",
     "output_type": "stream",
     "text": [
      "/root/miniconda3/lib/python3.12/site-packages/langchain_mistralai/embeddings.py:175: UserWarning: Could not download mistral tokenizer from Huggingface for calculating batch sizes. Set a Huggingface token via the HF_TOKEN environment variable to download the real tokenizer. Falling back to a dummy tokenizer that uses `len()`.\n",
      "  warnings.warn(\n"
     ]
    },
    {
     "ename": "TypeError",
     "evalue": "Document() got an unexpected keyword argument 'page_content'",
     "output_type": "error",
     "traceback": [
      "\u001b[0;31m---------------------------------------------------------------------------\u001b[0m",
      "\u001b[0;31mTypeError\u001b[0m                                 Traceback (most recent call last)",
      "Cell \u001b[0;32mIn[1], line 3\u001b[0m\n\u001b[1;32m      1\u001b[0m \u001b[38;5;28;01mfrom\u001b[39;00m \u001b[38;5;21;01mrag_note\u001b[39;00m \u001b[38;5;28;01mimport\u001b[39;00m RAG_Word\n\u001b[1;32m      2\u001b[0m chat \u001b[38;5;241m=\u001b[39m RAG_Word(chat_model\u001b[38;5;241m=\u001b[39m\u001b[38;5;124m\"\u001b[39m\u001b[38;5;124mmistral-small-latest\u001b[39m\u001b[38;5;124m\"\u001b[39m, emb_model\u001b[38;5;241m=\u001b[39m\u001b[38;5;124m\"\u001b[39m\u001b[38;5;124mmistral-embed\u001b[39m\u001b[38;5;124m\"\u001b[39m)\n\u001b[0;32m----> 3\u001b[0m \u001b[43mchat\u001b[49m\u001b[38;5;241;43m.\u001b[39;49m\u001b[43mread_directory\u001b[49m\u001b[43m(\u001b[49m\u001b[38;5;124;43m\"\u001b[39;49m\u001b[38;5;124;43mword\u001b[39;49m\u001b[38;5;124;43m\"\u001b[39;49m\u001b[43m)\u001b[49m\n",
      "File \u001b[0;32m~/word-rag/rag_note.py:54\u001b[0m, in \u001b[0;36mRAG_Word.read_directory\u001b[0;34m(self, directory_path)\u001b[0m\n\u001b[1;32m     51\u001b[0m     text \u001b[38;5;241m=\u001b[39m \u001b[38;5;28mself\u001b[39m\u001b[38;5;241m.\u001b[39mload_word_document(full_path)\n\u001b[1;32m     53\u001b[0m     \u001b[38;5;66;03m# 使用 Document 对象而不是字典\u001b[39;00m\n\u001b[0;32m---> 54\u001b[0m     all_docs\u001b[38;5;241m.\u001b[39mappend(\u001b[43mDocument\u001b[49m\u001b[43m(\u001b[49m\u001b[43mpage_content\u001b[49m\u001b[38;5;241;43m=\u001b[39;49m\u001b[43mtext\u001b[49m\u001b[43m)\u001b[49m)\n\u001b[1;32m     56\u001b[0m chunks \u001b[38;5;241m=\u001b[39m \u001b[38;5;28mself\u001b[39m\u001b[38;5;241m.\u001b[39mtext_splitter\u001b[38;5;241m.\u001b[39msplit_documents(all_docs)\n\u001b[1;32m     58\u001b[0m \u001b[38;5;66;03m# 使用 FAISS 初始化向量存储\u001b[39;00m\n",
      "\u001b[0;31mTypeError\u001b[0m: Document() got an unexpected keyword argument 'page_content'"
     ]
    }
   ],
   "source": [
    "from rag_note import RAG_Word\n",
    "chat = RAG_Word(chat_model=\"mistral-small-latest\", emb_model=\"mistral-embed\")\n",
    "chat.read_directory(\"word\")"
   ]
  },
  {
   "cell_type": "code",
   "execution_count": 2,
   "id": "9ecb7651",
   "metadata": {},
   "outputs": [
    {
     "ename": "NameError",
     "evalue": "name 'chat' is not defined",
     "output_type": "error",
     "traceback": [
      "\u001b[0;31m---------------------------------------------------------------------------\u001b[0m",
      "\u001b[0;31mNameError\u001b[0m                                 Traceback (most recent call last)",
      "Cell \u001b[0;32mIn[2], line 1\u001b[0m\n\u001b[0;32m----> 1\u001b[0m \u001b[43mchat\u001b[49m\u001b[38;5;241m.\u001b[39mask(\u001b[38;5;124m\"\u001b[39m\u001b[38;5;124mwhat is llm\u001b[39m\u001b[38;5;124m\"\u001b[39m)\n",
      "\u001b[0;31mNameError\u001b[0m: name 'chat' is not defined"
     ]
    }
   ],
   "source": [
    "chat.ask(\"what is llm\")"
   ]
  },
  {
   "cell_type": "code",
   "execution_count": null,
   "id": "d01f181a-df91-42a9-b1be-e092dadc1637",
   "metadata": {},
   "outputs": [],
   "source": []
  }
 ],
 "metadata": {
  "kernelspec": {
   "display_name": "Python 3 (ipykernel)",
   "language": "python",
   "name": "python3"
  },
  "language_info": {
   "codemirror_mode": {
    "name": "ipython",
    "version": 3
   },
   "file_extension": ".py",
   "mimetype": "text/x-python",
   "name": "python",
   "nbconvert_exporter": "python",
   "pygments_lexer": "ipython3",
   "version": "3.12.3"
  }
 },
 "nbformat": 4,
 "nbformat_minor": 5
}
