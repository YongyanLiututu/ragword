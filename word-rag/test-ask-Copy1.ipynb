{
 "cells": [
  {
   "cell_type": "code",
   "execution_count": 2,
   "id": "c711a27d",
   "metadata": {},
   "outputs": [
    {
     "name": "stdout",
     "output_type": "stream",
     "text": [
      "正在构建向量存储，扫描目录: word\n",
      "正在处理文档: word/word1.docx\n",
      "正在加载文档: word/word1.docx\n",
      "文档 word/word1.docx 成功加载，内容长度: 1645 字符。\n",
      "文档 word1.docx 成功加载，添加到处理列表。\n",
      "正在分割文档...\n",
      "正在初始化向量存储...\n",
      "正在创建 RAG 链...\n",
      "RAG 链创建成功。\n"
     ]
    }
   ],
   "source": [
    "from rag_note import RAG_Word\n",
    "chat = RAG_Word(chat_model=\"mistral-small-latest\", emb_model=\"mistral-embed\")\n",
    "chat.read_directory(\"word\")"
   ]
  },
  {
   "cell_type": "code",
   "execution_count": 5,
   "id": "9ecb7651",
   "metadata": {},
   "outputs": [
    {
     "data": {
      "text/plain": [
       "{'input': 'what is llm',\n",
       " 'context': [Document(metadata={'source': 'word/word1.docx'}, page_content='LLM (Large Language Model) refers to an advanced deep learning-based artificial intelligence system designed to process and generate human-like text. These models are trained on massive datasets containing diverse types of text, enabling them to understand linguistic structures, semantics, and context at a highly nuanced level. By leveraging billions (or even trillions) of parameters, LLMs can perform a wide array of language-related tasks such as answering questions, generating coherent and contextually'),\n",
       "  Document(metadata={'source': 'word/word1.docx'}, page_content='Prominent examples of LLMs include OpenAI’s GPT series, Google’s Bard, and Meta’s LLaMA. These models are built using transformer architectures, which allow them to capture complex patterns in language and deliver state-of-the-art performance across various natural language processing (NLP) tasks. The capabilities of LLMs extend beyond simple text processing; they can analyze and understand intricate contexts, making them versatile tools in fields such as education, customer support, research, creative'),\n",
       "  Document(metadata={'source': 'word/word1.docx'}, page_content='However, despite their strengths, LLMs also have limitations, such as producing factually incorrect information (hallucinations), lacking real-time knowledge updates, and being computationally expensive to deploy. Ethical considerations, including potential misuse and biases inherited from training data, remain critical challenges. Nevertheless, LLMs continue to transform the AI landscape, offering unprecedented opportunities for innovation and efficiency in language-based applications.'),\n",
       "  Document(metadata={'source': 'word/word1.docx'}, page_content='questions, generating coherent and contextually relevant text, summarizing content, translating languages, and even engaging in creative writing.'),\n",
       "  Document(metadata={'source': 'word/word1.docx'}, page_content='education, customer support, research, creative industries, and software development.')],\n",
       " 'answer': 'LLM (Large Language Model) 是一种基于深度学习的人工智能系统，旨在处理和生成类似人类文本的内容。这些模型在庞大的数据集上进行训练，能够理解语言结构、语义和上下文。通过使用数十亿（甚至数万亿）个参数，LLM 可以执行多种语言相关任务，如回答问题、生成连贯且上下文相关的文本、总结内容、翻译语言以及进行创意写作。'}"
      ]
     },
     "execution_count": 5,
     "metadata": {},
     "output_type": "execute_result"
    }
   ],
   "source": [
    "chat.ask(\"what is llm\")"
   ]
  },
  {
   "cell_type": "code",
   "execution_count": null,
   "id": "d01f181a-df91-42a9-b1be-e092dadc1637",
   "metadata": {},
   "outputs": [],
   "source": []
  }
 ],
 "metadata": {
  "kernelspec": {
   "display_name": "Python 3 (ipykernel)",
   "language": "python",
   "name": "python3"
  },
  "language_info": {
   "codemirror_mode": {
    "name": "ipython",
    "version": 3
   },
   "file_extension": ".py",
   "mimetype": "text/x-python",
   "name": "python",
   "nbconvert_exporter": "python",
   "pygments_lexer": "ipython3",
   "version": "3.12.3"
  }
 },
 "nbformat": 4,
 "nbformat_minor": 5
}
